{
 "cells": [
  {
   "cell_type": "markdown",
   "metadata": {},
   "source": [
    "<div>\n",
    "    <b>Description:</b> Visualizing Geographic Data<br>\n",
    "    <b>Author:</b> Maika Carmelle Henry Northrop\n",
    "</div>\n",
    "<br>"
   ]
  },
  {
   "cell_type": "code",
   "execution_count": 1,
   "metadata": {},
   "outputs": [],
   "source": [
    "#import modules\n",
    "import pandas as pd\n",
    "import pprint"
   ]
  },
  {
   "cell_type": "markdown",
   "metadata": {},
   "source": [
    "# Visualizing Geographic Data"
   ]
  },
  {
   "cell_type": "markdown",
   "metadata": {},
   "source": [
    "The objective of this data visualization analysis is to explore the basemap library in order to plot raw geographic data points like latitudes and longitudes on maps.  In this project, I will be working with flight data from the [openflights website](https://openflights.org/data.html)."
   ]
  },
  {
   "cell_type": "markdown",
   "metadata": {},
   "source": [
    "## Collecting the Data"
   ]
  },
  {
   "cell_type": "markdown",
   "metadata": {},
   "source": [
    "Following is a breakdown of the data sets I'll be working with along with the corresponding columns:\n",
    "\n",
    "<b>Data set #1</b>\n",
    "* airlines.csv - data on each airline\n",
    " * country - where the airline is headquartered\n",
    " * active - whether or not the airline is still active\n",
    " \n",
    "<b>Data set #2</b>\n",
    "* airports.csv - data on each airport\n",
    " * name - name of the airport\n",
    " * city - city the airport is located in\n",
    " * country - country the airport is located in\n",
    " * code - unique airport code\n",
    " * latitude - latitude value\n",
    " * longitude - longitude value\n",
    " \n",
    "<b>Data set #3</b>\n",
    "* routes.csv - data on each flight route\n",
    " * airline - airline for the route\n",
    " * source - starting city for the route\n",
    " * dest - destination city for the route"
   ]
  },
  {
   "cell_type": "markdown",
   "metadata": {},
   "source": [
    "## Let's Explore The Data Sets from the Opensflights website"
   ]
  },
  {
   "cell_type": "code",
   "execution_count": 5,
   "metadata": {},
   "outputs": [
    {
     "name": "stdout",
     "output_type": "stream",
     "text": [
      "id                              1\n",
      "name                       Goroka\n",
      "city                       Goroka\n",
      "country          Papua New Guinea\n",
      "code                          GKA\n",
      "icao                         AYGA\n",
      "latitude                 -6.08169\n",
      "longitude                 145.392\n",
      "altitude                     5282\n",
      "offset                         10\n",
      "dst                             U\n",
      "timezone     Pacific/Port_Moresby\n",
      "Name: 0, dtype: object\n",
      "\n",
      "\n",
      "id                       1\n",
      "name        Private flight\n",
      "alias                   \\N\n",
      "iata                     -\n",
      "icao                   NaN\n",
      "callsign               NaN\n",
      "country                NaN\n",
      "active                   Y\n",
      "Name: 0, dtype: object\n",
      "\n",
      "\n",
      "airline         2B\n",
      "airline_id     410\n",
      "source         AER\n",
      "source_id     2965\n",
      "dest           KZN\n",
      "dest_id       2990\n",
      "codeshare      NaN\n",
      "stops            0\n",
      "equipment      CR2\n",
      "Name: 0, dtype: object\n"
     ]
    }
   ],
   "source": [
    "airlines = pd.read_csv('datasets/airlines.csv')\n",
    "airports = pd.read_csv('datasets/airports.csv')\n",
    "routes  = pd.read_csv('datasets/routes.csv')\n",
    "\n",
    "print(airports.iloc[0])\n",
    "print('\\n')\n",
    "print(airlines.iloc[0])\n",
    "print('\\n')\n",
    "print(routes.iloc[0])"
   ]
  },
  {
   "cell_type": "code",
   "execution_count": null,
   "metadata": {},
   "outputs": [],
   "source": []
  }
 ],
 "metadata": {
  "kernelspec": {
   "display_name": "Python 3",
   "language": "python",
   "name": "python3"
  },
  "language_info": {
   "codemirror_mode": {
    "name": "ipython",
    "version": 3
   },
   "file_extension": ".py",
   "mimetype": "text/x-python",
   "name": "python",
   "nbconvert_exporter": "python",
   "pygments_lexer": "ipython3",
   "version": "3.5.5"
  },
  "widgets": {
   "state": {},
   "version": "1.1.2"
  }
 },
 "nbformat": 4,
 "nbformat_minor": 2
}
